{
  "nbformat": 4,
  "nbformat_minor": 0,
  "metadata": {
    "colab": {
      "provenance": [],
      "authorship_tag": "ABX9TyNPye76EViU9vjkIHxTUrLw",
      "include_colab_link": true
    },
    "kernelspec": {
      "name": "python3",
      "display_name": "Python 3"
    },
    "language_info": {
      "name": "python"
    }
  },
  "cells": [
    {
      "cell_type": "markdown",
      "metadata": {
        "id": "view-in-github",
        "colab_type": "text"
      },
      "source": [
        "<a href=\"https://colab.research.google.com/github/NehaFathimas/Data-Analytics/blob/main/DBSCAN.ipynb\" target=\"_parent\"><img src=\"https://colab.research.google.com/assets/colab-badge.svg\" alt=\"Open In Colab\"/></a>"
      ]
    },
    {
      "cell_type": "markdown",
      "source": [
        "**Density Based Spatial clustering of Application with Noise**"
      ],
      "metadata": {
        "id": "wuPbBUH4Nnby"
      }
    },
    {
      "cell_type": "code",
      "execution_count": 1,
      "metadata": {
        "id": "YqGTo1Wq9D0b"
      },
      "outputs": [],
      "source": [
        "import numpy as np\n",
        "import matplotlib.pyplot as plt\n",
        "from sklearn.cluster import DBSCAN"
      ]
    },
    {
      "cell_type": "code",
      "source": [
        "points = np.array([\n",
        "    [3,7],\n",
        "    [4,6],\n",
        "    [5,5],\n",
        "    [6,4],\n",
        "    [7,3],\n",
        "    [6,2],\n",
        "    [7,2],\n",
        "    [8,4],\n",
        "    [3,3],\n",
        "    [2,6],\n",
        "    [3,5],\n",
        "    [2,4]\n",
        "])"
      ],
      "metadata": {
        "id": "qYcfR0MV9W0L"
      },
      "execution_count": 2,
      "outputs": []
    },
    {
      "cell_type": "markdown",
      "source": [
        "**Apply DBSCAN**"
      ],
      "metadata": {
        "id": "GmwQEj7H-1Xw"
      }
    },
    {
      "cell_type": "code",
      "source": [
        "dbscan=DBSCAN(eps=1.9,min_samples=4)\n",
        "labels=dbscan.fit_predict(points)\n"
      ],
      "metadata": {
        "id": "GweUTVTc-Dyg"
      },
      "execution_count": 3,
      "outputs": []
    },
    {
      "cell_type": "code",
      "source": [
        "for label in unique_labels:\n",
        "   cluster_points = points[labels == label]\n",
        "   if cluster_points.size == 0:\n",
        "      continue\n",
        "   if label == -1:\n",
        "      plt.scatter(cluster_points[:,0], cluster_points[:,1], c = 'k',marker='x',label='Noise')\n",
        "   else:\n",
        "      plt.scatter(cluster_points[:,0], cluster_points[:,1], label=f'cluster {label}')\n",
        "plt.legend()\n",
        "plt.title('DBSCAN Clustering')\n",
        "plt.xlabel('X')\n",
        "plt.ylabel('Y')\n",
        "plt.grid(True)\n",
        "plt.show()"
      ],
      "metadata": {
        "colab": {
          "base_uri": "https://localhost:8080/",
          "height": 472
        },
        "id": "_54qZSwf-sJj",
        "outputId": "45c5431f-e518-4a65-bbdf-171469be001a"
      },
      "execution_count": 6,
      "outputs": [
        {
          "output_type": "display_data",
          "data": {
            "text/plain": [
              "<Figure size 640x480 with 1 Axes>"
            ],
            "image/png": "[encoded data removed]"
          },
          "metadata": {}
        }
      ]
    },
    {
      "cell_type": "code",
      "source": [
        "print(\"Cluster labels for each pomt:\")\n",
        "for i, label in enumerate(labels, start=1):\n",
        "    print(f\"P{i}: Cluster {label if label != -1 else 'Noise'}\")"
      ],
      "metadata": {
        "colab": {
          "base_uri": "https://localhost:8080/"
        },
        "id": "2d1sGTp4BXw1",
        "outputId": "b9d151b8-19f0-4d34-d55e-cbe053bbf895"
      },
      "execution_count": 7,
      "outputs": [
        {
          "output_type": "stream",
          "name": "stdout",
          "text": [
            "Cluster labels for each pomt:\n",
            "P1: Cluster 0\n",
            "P2: Cluster 0\n",
            "P3: Cluster 0\n",
            "P4: Cluster 1\n",
            "P5: Cluster 1\n",
            "P6: Cluster 1\n",
            "P7: Cluster 1\n",
            "P8: Cluster 1\n",
            "P9: Cluster Noise\n",
            "P10: Cluster 0\n",
            "P11: Cluster 0\n",
            "P12: Cluster 0\n"
          ]
        }
      ]
    },
    {
      "cell_type": "code",
      "source": [
        "n_clusters=len(set(labels)) - (1 if -1 in labels else 0)\n",
        "print(\"\\nNumber of clusters forme (excluding noise):\",n_clusters)"
      ],
      "metadata": {
        "colab": {
          "base_uri": "https://localhost:8080/"
        },
        "id": "7QfcYLtcCUBI",
        "outputId": "10b3cfd1-5f33-4180-c19e-5ba9ca5cb80d"
      },
      "execution_count": 8,
      "outputs": [
        {
          "output_type": "stream",
          "name": "stdout",
          "text": [
            "\n",
            "Number of clusters forme (excluding noise): 2\n"
          ]
        }
      ]
    }
  ]
}